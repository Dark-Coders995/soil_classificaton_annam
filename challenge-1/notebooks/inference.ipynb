{
 "cells": [
  {
   "cell_type": "code",
   "execution_count": null,
   "id": "e2485521",
   "metadata": {},
   "outputs": [],
   "source": [
    "import os\n",
    "import numpy as np\n",
    "import pandas as pd\n",
    "import tensorflow as tf"
   ]
  },
  {
   "cell_type": "code",
   "execution_count": null,
   "id": "d2433887",
   "metadata": {},
   "outputs": [],
   "source": [
    "predictions = []\n",
    "image_ids = []\n",
    "\n",
    "    for fname in os.listdir(test_dir):\n",
    "        img_path = os.path.join(test_dir, fname)\n",
    "        img = tf.keras.preprocessing.image.load_img(img_path, target_size=(331, 331))\n",
    "        img = tf.keras.preprocessing.image.img_to_array(img)\n",
    "        img = np.expand_dims(img, axis=0)\n",
    "        img /= 255.\n",
    "\n",
    "        pred = model.predict(img)\n",
    "        predicted_class = class_labels[np.argmax(pred)]\n",
    "        predictions.append(predicted_class)\n",
    "        image_ids.append(fname)\n",
    "\n",
    "    return pd.DataFrame({'image_id': image_ids, 'soil_type': predictions})"
   ]
  }
 ],
 "metadata": {
  "language_info": {
   "name": "python"
  }
 },
 "nbformat": 4,
 "nbformat_minor": 5
}
